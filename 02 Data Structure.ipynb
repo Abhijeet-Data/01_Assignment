{
 "cells": [
  {
   "cell_type": "code",
   "execution_count": 35,
   "id": "3a03842d-f4d6-45bf-b702-875b523541f9",
   "metadata": {},
   "outputs": [],
   "source": [
    "#1. Discuss string slicing and provide examples."
   ]
  },
  {
   "cell_type": "code",
   "execution_count": 14,
   "id": "a72f3b0c-4f73-476b-bc6b-8b968acd64b9",
   "metadata": {},
   "outputs": [],
   "source": [
    "#string[start:stop:step]\n",
    "#'start' is the index where the slice starts.\n",
    "#'stop' is the index where the slice ends.\n",
    "#'step' specifies the step or the stride between each index in the range."
   ]
  },
  {
   "cell_type": "code",
   "execution_count": 17,
   "id": "7fefbcb1-1224-40dc-8f50-7c4db1fead81",
   "metadata": {},
   "outputs": [],
   "source": [
    "#Examples\n",
    "text= \"Hello, World!\"\n",
    "slice1= text[0:5] #Simple Slice"
   ]
  },
  {
   "cell_type": "code",
   "execution_count": 18,
   "id": "f20ce55c-1745-4be6-94d2-137d5fb8ceef",
   "metadata": {},
   "outputs": [
    {
     "data": {
      "text/plain": [
       "'Hello'"
      ]
     },
     "execution_count": 18,
     "metadata": {},
     "output_type": "execute_result"
    }
   ],
   "source": [
    "slice1"
   ]
  },
  {
   "cell_type": "code",
   "execution_count": 19,
   "id": "d1d374a4-7543-4f83-8e3f-e3a8a4e910d4",
   "metadata": {},
   "outputs": [],
   "source": [
    "text= \"Hello, World!\"\n",
    "slice2= text[:5] #Ommiting start"
   ]
  },
  {
   "cell_type": "code",
   "execution_count": 20,
   "id": "60455ba9-98af-406e-88a0-5448b2aeb77e",
   "metadata": {},
   "outputs": [
    {
     "data": {
      "text/plain": [
       "'Hello'"
      ]
     },
     "execution_count": 20,
     "metadata": {},
     "output_type": "execute_result"
    }
   ],
   "source": [
    "slice2"
   ]
  },
  {
   "cell_type": "code",
   "execution_count": 21,
   "id": "e7c70d35-e4d5-44de-b1c4-afe69d6ac712",
   "metadata": {},
   "outputs": [],
   "source": [
    "slice3= text[7:] ##Ommiting stop"
   ]
  },
  {
   "cell_type": "code",
   "execution_count": 22,
   "id": "8cef130c-2c72-480d-a076-76bb5431cddf",
   "metadata": {},
   "outputs": [
    {
     "data": {
      "text/plain": [
       "'World!'"
      ]
     },
     "execution_count": 22,
     "metadata": {},
     "output_type": "execute_result"
    }
   ],
   "source": [
    "slice3"
   ]
  },
  {
   "cell_type": "code",
   "execution_count": 23,
   "id": "af0898bf-43f2-4401-a31e-bf00d551c060",
   "metadata": {},
   "outputs": [],
   "source": [
    "#negative indices\n",
    "text = \"Hello, World!\"\n",
    "slice4 = text[-6:]\n",
    "slice5 = text[-6:-1]"
   ]
  },
  {
   "cell_type": "code",
   "execution_count": 24,
   "id": "a54a4efc-74e5-4409-9261-ab9ccb5e711a",
   "metadata": {},
   "outputs": [
    {
     "data": {
      "text/plain": [
       "'World!'"
      ]
     },
     "execution_count": 24,
     "metadata": {},
     "output_type": "execute_result"
    }
   ],
   "source": [
    "slice4"
   ]
  },
  {
   "cell_type": "code",
   "execution_count": 25,
   "id": "b17a0c3f-5cdb-4c2a-897c-0cdd153cff07",
   "metadata": {},
   "outputs": [
    {
     "data": {
      "text/plain": [
       "'World'"
      ]
     },
     "execution_count": 25,
     "metadata": {},
     "output_type": "execute_result"
    }
   ],
   "source": [
    "slice5"
   ]
  },
  {
   "cell_type": "code",
   "execution_count": 26,
   "id": "d82bd7d5-2013-412c-b077-6d53c5c4fc68",
   "metadata": {},
   "outputs": [],
   "source": [
    "#Step/Stride\n",
    "text = \"Hello, World!\"\n",
    "slice6 = text[::2]\n",
    "slice7 = text[1::2]"
   ]
  },
  {
   "cell_type": "code",
   "execution_count": 27,
   "id": "ab9298f9-1544-48a3-b795-fb838f60f50d",
   "metadata": {},
   "outputs": [
    {
     "data": {
      "text/plain": [
       "'Hlo ol!'"
      ]
     },
     "execution_count": 27,
     "metadata": {},
     "output_type": "execute_result"
    }
   ],
   "source": [
    "slice6"
   ]
  },
  {
   "cell_type": "code",
   "execution_count": 28,
   "id": "6758ad80-cee2-481c-9177-987a8bdb7371",
   "metadata": {},
   "outputs": [
    {
     "data": {
      "text/plain": [
       "'el,Wrd'"
      ]
     },
     "execution_count": 28,
     "metadata": {},
     "output_type": "execute_result"
    }
   ],
   "source": [
    "slice7"
   ]
  },
  {
   "cell_type": "code",
   "execution_count": 29,
   "id": "7be3d1ab-d659-4674-bf53-1da526695377",
   "metadata": {},
   "outputs": [
    {
     "data": {
      "text/plain": [
       "'!dlroW ,olleH'"
      ]
     },
     "execution_count": 29,
     "metadata": {},
     "output_type": "execute_result"
    }
   ],
   "source": [
    "#Reversing a String\n",
    "text = \"Hello, World!\"\n",
    "reversed_text = text[::-1]\n",
    "reversed_text"
   ]
  },
  {
   "cell_type": "code",
   "execution_count": 30,
   "id": "c62fc322-ae44-48d4-8221-3d163eaeff0b",
   "metadata": {},
   "outputs": [
    {
     "data": {
      "text/plain": [
       "'el,W'"
      ]
     },
     "execution_count": 30,
     "metadata": {},
     "output_type": "execute_result"
    }
   ],
   "source": [
    "#Slice with Start, Stop, and Step\n",
    "text = \"Hello, World!\"\n",
    "slice8 = text[1:9:2]\n",
    "slice8"
   ]
  },
  {
   "cell_type": "code",
   "execution_count": 31,
   "id": "ed4c30f4-ed9b-435b-b589-52ab67b37bb5",
   "metadata": {},
   "outputs": [
    {
     "data": {
      "text/plain": [
       "'Hl r!'"
      ]
     },
     "execution_count": 31,
     "metadata": {},
     "output_type": "execute_result"
    }
   ],
   "source": [
    "#Skipping Characters\n",
    "text = \"Hello, World!\"\n",
    "slice9 = text[::3]\n",
    "slice9"
   ]
  },
  {
   "cell_type": "code",
   "execution_count": 32,
   "id": "d86a6a82-d9d6-4a1b-bac7-d428b862a22a",
   "metadata": {},
   "outputs": [
    {
     "data": {
      "text/plain": [
       "'!dlro'"
      ]
     },
     "execution_count": 32,
     "metadata": {},
     "output_type": "execute_result"
    }
   ],
   "source": [
    "#Combining Negative Indices and Steps\n",
    "text = \"Hello, World!\"\n",
    "slice10 = text[-1:-6:-1]\n",
    "slice10"
   ]
  },
  {
   "cell_type": "code",
   "execution_count": 36,
   "id": "2a7fee5d-b8ad-4212-b73b-fb491572e679",
   "metadata": {},
   "outputs": [],
   "source": [
    "#2. Explain the key features of lists in Python"
   ]
  },
  {
   "cell_type": "code",
   "execution_count": 37,
   "id": "2b65253c-7784-4643-b15b-7fa7755caa86",
   "metadata": {},
   "outputs": [
    {
     "data": {
      "text/plain": [
       "['apple', 'banana', 'cherry']"
      ]
     },
     "execution_count": 37,
     "metadata": {},
     "output_type": "execute_result"
    }
   ],
   "source": [
    "#Ordered>> Lists maintain the order of elements. The order in which elements are added is preserved.\n",
    "fruits = [\"apple\", \"banana\", \"cherry\"]\n",
    "fruits"
   ]
  },
  {
   "cell_type": "code",
   "execution_count": 38,
   "id": "c53af90c-7ac0-4645-b6e7-66bed4b8b5c3",
   "metadata": {},
   "outputs": [
    {
     "data": {
      "text/plain": [
       "['apple', 'blueberry', 'cherry']"
      ]
     },
     "execution_count": 38,
     "metadata": {},
     "output_type": "execute_result"
    }
   ],
   "source": [
    "#Mutable>> Lists can be modified after creation. Elements can be added, removed, or changed.\n",
    "fruits[1] = \"blueberry\"  \n",
    "fruits"
   ]
  },
  {
   "cell_type": "code",
   "execution_count": 39,
   "id": "81cd2fa5-808d-4405-a2da-c646cfefdab9",
   "metadata": {},
   "outputs": [
    {
     "data": {
      "text/plain": [
       "[1, 'hello', 3.14, [2, 4, 6]]"
      ]
     },
     "execution_count": 39,
     "metadata": {},
     "output_type": "execute_result"
    }
   ],
   "source": [
    "#Heterogeneous>> Lists can contain elements of different data types, including other lists.\n",
    "mixed_list = [1, \"hello\", 3.14, [2, 4, 6]]\n",
    "mixed_list"
   ]
  },
  {
   "cell_type": "code",
   "execution_count": 40,
   "id": "a1cd577c-d3cc-4ff3-9a59-84a111ec74f7",
   "metadata": {},
   "outputs": [
    {
     "data": {
      "text/plain": [
       "['apple', 'blueberry', 'cherry', 'orange']"
      ]
     },
     "execution_count": 40,
     "metadata": {},
     "output_type": "execute_result"
    }
   ],
   "source": [
    "#Dynamic Size>> Lists can grow and shrink as needed. There is no need to declare a fixed size.\n",
    "fruits.append(\"orange\")  \n",
    "fruits"
   ]
  },
  {
   "cell_type": "code",
   "execution_count": 41,
   "id": "54b33425-a248-4e7e-bf14-653416ccb699",
   "metadata": {},
   "outputs": [
    {
     "data": {
      "text/plain": [
       "'apple'"
      ]
     },
     "execution_count": 41,
     "metadata": {},
     "output_type": "execute_result"
    }
   ],
   "source": [
    "#Indexing and Slicing>> Elements in a list can be accessed using indices. Negative indices count from the end of the list. \n",
    "#Slicing can extract sublists.\n",
    "first_fruit = fruits[0]\n",
    "first_fruit"
   ]
  },
  {
   "cell_type": "code",
   "execution_count": 42,
   "id": "102dc083-cf64-4dbc-8287-7f53bc891b89",
   "metadata": {},
   "outputs": [
    {
     "data": {
      "text/plain": [
       "'orange'"
      ]
     },
     "execution_count": 42,
     "metadata": {},
     "output_type": "execute_result"
    }
   ],
   "source": [
    "last_fruit = fruits[-1]\n",
    "last_fruit"
   ]
  },
  {
   "cell_type": "code",
   "execution_count": 43,
   "id": "07801938-f7bf-468e-971c-5b3724812596",
   "metadata": {},
   "outputs": [
    {
     "data": {
      "text/plain": [
       "['blueberry', 'cherry']"
      ]
     },
     "execution_count": 43,
     "metadata": {},
     "output_type": "execute_result"
    }
   ],
   "source": [
    "sublist = fruits[1:3]\n",
    "sublist"
   ]
  },
  {
   "cell_type": "code",
   "execution_count": 49,
   "id": "ca5219a7-4a6d-4eb1-959a-63741ae800a4",
   "metadata": {},
   "outputs": [
    {
     "name": "stdout",
     "output_type": "stream",
     "text": [
      "apple\n",
      "blueberry\n",
      "cherry\n",
      "orange\n"
     ]
    }
   ],
   "source": [
    "#Iteration>> Lists can be easily iterated over using loops.\n",
    "for fruit in fruits:\n",
    "    print(fruit)"
   ]
  },
  {
   "cell_type": "code",
   "execution_count": 50,
   "id": "5cfab2ba-4a61-4f43-8a11-ba3da59430e2",
   "metadata": {},
   "outputs": [],
   "source": [
    "#Comprehensive Methods:\n",
    "\n",
    "#Lists come with a variety of built-in methods for manipulation:\n",
    "#append()>> Adds an element to the end of the list.\n",
    "#extend()>> Adds elements from another iterable to the end of the list.\n",
    "#insert()>> Inserts an element at a specified position.\n",
    "#remove()>> Removes the first occurrence of a specified element.\n",
    "#pop()>> Removes and returns the element at a specified position.\n",
    "#clear()>> Removes all elements from the list.\n",
    "#index()>> Returns the index of the first occurrence of a specified element.\n",
    "#count()>> Returns the number of occurrences of a specified element.\n",
    "#sort()>> Sorts the list in ascending order (can be customized with a key and reverse parameters).\n",
    "#reverse()>> Reverses the order of the list.\n",
    "#copy()>> Returns a shallow copy of the list."
   ]
  },
  {
   "cell_type": "code",
   "execution_count": 52,
   "id": "d2db15e8-0a17-4723-882c-d3fabde50075",
   "metadata": {},
   "outputs": [
    {
     "data": {
      "text/plain": [
       "[0, 1, 4, 9, 16, 25, 36, 49, 64, 81]"
      ]
     },
     "execution_count": 52,
     "metadata": {},
     "output_type": "execute_result"
    }
   ],
   "source": [
    "#List Comprehensions>> Python supports a concise way to create lists using list comprehensions, \n",
    "#which can include conditions and transformations.\n",
    "squares = [x**2 for x in range(10)]  \n",
    "squares"
   ]
  },
  {
   "cell_type": "code",
   "execution_count": 53,
   "id": "6e1d1f4e-15ec-4ec0-881d-226ab9f3a14c",
   "metadata": {},
   "outputs": [
    {
     "data": {
      "text/plain": [
       "[1, 2, 3, 4, 5, 6]"
      ]
     },
     "execution_count": 53,
     "metadata": {},
     "output_type": "execute_result"
    }
   ],
   "source": [
    "#Examples >> Creating and Modifying Lists:\n",
    "numbers = [1, 2, 3, 4, 5]\n",
    "numbers.append(6)     \n",
    "numbers"
   ]
  },
  {
   "cell_type": "code",
   "execution_count": 55,
   "id": "7c9bb7d1-a52d-4324-8efd-70f57b14ac90",
   "metadata": {},
   "outputs": [
    {
     "data": {
      "text/plain": [
       "[1, 2, 2.5, 2.5, 3, 4, 5, 6]"
      ]
     },
     "execution_count": 55,
     "metadata": {},
     "output_type": "execute_result"
    }
   ],
   "source": [
    "numbers.insert(2, 2.5)\n",
    "numbers"
   ]
  },
  {
   "cell_type": "code",
   "execution_count": 56,
   "id": "18816ccc-d113-4880-a743-e6262e7b8dc5",
   "metadata": {},
   "outputs": [
    {
     "data": {
      "text/plain": [
       "[1, 2, 2.5, 3, 4, 5, 6]"
      ]
     },
     "execution_count": 56,
     "metadata": {},
     "output_type": "execute_result"
    }
   ],
   "source": [
    "numbers.remove(2.5) \n",
    "numbers"
   ]
  },
  {
   "cell_type": "code",
   "execution_count": 57,
   "id": "b5212b38-9740-46d6-9bc8-c0b339135198",
   "metadata": {},
   "outputs": [
    {
     "data": {
      "text/plain": [
       "1"
      ]
     },
     "execution_count": 57,
     "metadata": {},
     "output_type": "execute_result"
    }
   ],
   "source": [
    "#Accessing Elements \n",
    "first = numbers[0] \n",
    "first\n"
   ]
  },
  {
   "cell_type": "code",
   "execution_count": 58,
   "id": "c3f513d0-c8fa-445c-90ea-2700493cbb3c",
   "metadata": {},
   "outputs": [
    {
     "data": {
      "text/plain": [
       "6"
      ]
     },
     "execution_count": 58,
     "metadata": {},
     "output_type": "execute_result"
    }
   ],
   "source": [
    "last = numbers[-1]\n",
    "last"
   ]
  },
  {
   "cell_type": "code",
   "execution_count": 59,
   "id": "3919192c-2fe1-49ed-8028-609b499c8ff0",
   "metadata": {},
   "outputs": [
    {
     "data": {
      "text/plain": [
       "[2, 2.5, 3]"
      ]
     },
     "execution_count": 59,
     "metadata": {},
     "output_type": "execute_result"
    }
   ],
   "source": [
    "middle = numbers[1:4] \n",
    "middle"
   ]
  },
  {
   "cell_type": "code",
   "execution_count": 60,
   "id": "8738dc8b-5736-49a2-b90d-352d8b4d86fb",
   "metadata": {},
   "outputs": [
    {
     "data": {
      "text/plain": [
       "2"
      ]
     },
     "execution_count": 60,
     "metadata": {},
     "output_type": "execute_result"
    }
   ],
   "source": [
    "#Using List Methods\n",
    "letters = ['a', 'b', 'c', 'a', 'b', 'c']\n",
    "count_a = letters.count('a')  \n",
    "count_a"
   ]
  },
  {
   "cell_type": "code",
   "execution_count": 61,
   "id": "94919fc9-7067-4fd0-b282-a005c39b5ecb",
   "metadata": {},
   "outputs": [
    {
     "data": {
      "text/plain": [
       "1"
      ]
     },
     "execution_count": 61,
     "metadata": {},
     "output_type": "execute_result"
    }
   ],
   "source": [
    "index_b = letters.index('b')\n",
    "index_b"
   ]
  },
  {
   "cell_type": "code",
   "execution_count": 64,
   "id": "6c8c6fe7-b198-4006-b9e2-ce412b8706c0",
   "metadata": {},
   "outputs": [
    {
     "data": {
      "text/plain": [
       "['c', 'b', 'a', 'c', 'b', 'a']"
      ]
     },
     "execution_count": 64,
     "metadata": {},
     "output_type": "execute_result"
    }
   ],
   "source": [
    "letters.reverse()\n",
    "letters"
   ]
  },
  {
   "cell_type": "code",
   "execution_count": 65,
   "id": "1bc887b6-d890-45c8-a102-06278ce99dc4",
   "metadata": {},
   "outputs": [
    {
     "data": {
      "text/plain": [
       "['a', 'a', 'b', 'b', 'c', 'c']"
      ]
     },
     "execution_count": 65,
     "metadata": {},
     "output_type": "execute_result"
    }
   ],
   "source": [
    "letters.sort()\n",
    "letters"
   ]
  },
  {
   "cell_type": "code",
   "execution_count": 67,
   "id": "ab4c0b9a-1780-4477-8e6e-2a5078bdf988",
   "metadata": {},
   "outputs": [
    {
     "data": {
      "text/plain": [
       "[0, 2, 4, 6, 8]"
      ]
     },
     "execution_count": 67,
     "metadata": {},
     "output_type": "execute_result"
    }
   ],
   "source": [
    "#List Comprehensions\n",
    "evens = [x for x in range(10) if x % 2 == 0]\n",
    "evens"
   ]
  },
  {
   "cell_type": "code",
   "execution_count": 1,
   "id": "70c2dc22-c82e-4732-94a5-effc7ab401b3",
   "metadata": {},
   "outputs": [],
   "source": [
    "# 3.Describe how to access, modify, and delete elements in a list with examples.\n",
    "'''list can be accessed using their index. Python uses zero-based indexing, \n",
    "so the first element has an index of 0, the second element has an index of 1, and so on. \n",
    "Negative indices can be used to access elements from the end of the list, with -1 being the last element.'''"
   ]
  },
  {
   "cell_type": "code",
   "execution_count": 2,
   "id": "79d811ed-389e-4c7f-be08-d281648b1310",
   "metadata": {},
   "outputs": [],
   "source": [
    "#Examples\n",
    "fruits = [\"apple\", \"banana\", \"cherry\", \"date\"]"
   ]
  },
  {
   "cell_type": "code",
   "execution_count": 3,
   "id": "3be71466-9737-4e99-b826-4f9dada68f4e",
   "metadata": {},
   "outputs": [
    {
     "data": {
      "text/plain": [
       "'apple'"
      ]
     },
     "execution_count": 3,
     "metadata": {},
     "output_type": "execute_result"
    }
   ],
   "source": [
    "first_fruit = fruits[0]\n",
    "first_fruit"
   ]
  },
  {
   "cell_type": "code",
   "execution_count": 4,
   "id": "2aee7884-1a23-44f2-87ad-17b579d13580",
   "metadata": {},
   "outputs": [
    {
     "data": {
      "text/plain": [
       "'banana'"
      ]
     },
     "execution_count": 4,
     "metadata": {},
     "output_type": "execute_result"
    }
   ],
   "source": [
    "second_fruit = fruits[1]\n",
    "second_fruit"
   ]
  },
  {
   "cell_type": "code",
   "execution_count": 5,
   "id": "ac719c9d-0473-4340-9834-0356f71fb0f8",
   "metadata": {},
   "outputs": [
    {
     "data": {
      "text/plain": [
       "'date'"
      ]
     },
     "execution_count": 5,
     "metadata": {},
     "output_type": "execute_result"
    }
   ],
   "source": [
    "last_fruit = fruits[-1]\n",
    "last_fruit"
   ]
  },
  {
   "cell_type": "code",
   "execution_count": 6,
   "id": "08d14a96-9bbf-4903-94a9-96bc93daf0cd",
   "metadata": {},
   "outputs": [
    {
     "data": {
      "text/plain": [
       "'cherry'"
      ]
     },
     "execution_count": 6,
     "metadata": {},
     "output_type": "execute_result"
    }
   ],
   "source": [
    "second_last_fruit = fruits[-2]\n",
    "second_last_fruit"
   ]
  },
  {
   "cell_type": "code",
   "execution_count": 7,
   "id": "89c14b58-8180-4da5-917f-a3997849c3d0",
   "metadata": {},
   "outputs": [
    {
     "name": "stdout",
     "output_type": "stream",
     "text": [
      "apple banana date cherry\n"
     ]
    }
   ],
   "source": [
    "print(first_fruit, second_fruit, last_fruit, second_last_fruit)"
   ]
  },
  {
   "cell_type": "code",
   "execution_count": 8,
   "id": "5aa7522c-205b-4588-b809-4c49bc917019",
   "metadata": {},
   "outputs": [
    {
     "data": {
      "text/plain": [
       "['apple', 'blueberry', 'cherry', 'date']"
      ]
     },
     "execution_count": 8,
     "metadata": {},
     "output_type": "execute_result"
    }
   ],
   "source": [
    "fruits = [\"apple\", \"banana\", \"cherry\", \"date\"]\n",
    "\n",
    "# Modifying elements\n",
    "fruits[1] = \"blueberry\"  \n",
    "fruits"
   ]
  },
  {
   "cell_type": "code",
   "execution_count": 9,
   "id": "7fc39e32-c441-4d79-aa15-cab4360a04c9",
   "metadata": {},
   "outputs": [
    {
     "data": {
      "text/plain": [
       "['apple', 'blueberry', 'cherry', 'dragonfruit']"
      ]
     },
     "execution_count": 9,
     "metadata": {},
     "output_type": "execute_result"
    }
   ],
   "source": [
    "fruits[-1] = \"dragonfruit\"\n",
    "fruits"
   ]
  },
  {
   "cell_type": "code",
   "execution_count": 11,
   "id": "5bf59218-616a-4798-8aae-40db092d81d1",
   "metadata": {},
   "outputs": [
    {
     "data": {
      "text/plain": [
       "'If no index is specified, it removes and returns the last element.'"
      ]
     },
     "execution_count": 11,
     "metadata": {},
     "output_type": "execute_result"
    }
   ],
   "source": [
    "#Elements can be deleted from a list using several methods:\n",
    "\n",
    "#Using 'del' Statement: Deletes the element at a specific index.\n",
    "#Using 'remove()' Method: Removes the first occurrence of a specified value.\n",
    "#Using 'pop()' Method: Removes and returns the element at a specified index. \n",
    "'''If no index is specified, it removes and returns the last element.'''\n",
    "#Using 'clear()' Method: Removes all elements from the list."
   ]
  },
  {
   "cell_type": "code",
   "execution_count": 12,
   "id": "29774040-82d2-46c8-b940-951402244ec2",
   "metadata": {},
   "outputs": [
    {
     "name": "stdout",
     "output_type": "stream",
     "text": [
      "['apple', 'cherry']\n"
     ]
    }
   ],
   "source": [
    "fruits = [\"apple\", \"banana\", \"cherry\", \"date\"]\n",
    "\n",
    "# Deleting elements\n",
    "del fruits[1]  \n",
    "del fruits[-1]\n",
    "print(fruits)"
   ]
  },
  {
   "cell_type": "code",
   "execution_count": 13,
   "id": "b3fe5946-832b-4065-9052-2b5a412417bf",
   "metadata": {},
   "outputs": [
    {
     "name": "stdout",
     "output_type": "stream",
     "text": [
      "['apple', 'cherry', 'date', 'banana']\n"
     ]
    }
   ],
   "source": [
    "fruits = [\"apple\", \"banana\", \"cherry\", \"date\", \"banana\"]\n",
    "\n",
    "# Removing elements by value\n",
    "fruits.remove(\"banana\")\n",
    "print(fruits)"
   ]
  },
  {
   "cell_type": "code",
   "execution_count": 14,
   "id": "bcc566c1-9e66-4238-af27-662f1bdc233a",
   "metadata": {},
   "outputs": [
    {
     "name": "stdout",
     "output_type": "stream",
     "text": [
      "['apple', 'cherry'] date banana\n"
     ]
    }
   ],
   "source": [
    "fruits = [\"apple\", \"banana\", \"cherry\", \"date\"]\n",
    "\n",
    "# Popping elements\n",
    "last_fruit = fruits.pop()\n",
    "second_fruit = fruits.pop(1)\n",
    "print(fruits, last_fruit, second_fruit)"
   ]
  },
  {
   "cell_type": "code",
   "execution_count": 15,
   "id": "cb82d9dd-233a-428d-a910-c98e589b48b6",
   "metadata": {},
   "outputs": [
    {
     "name": "stdout",
     "output_type": "stream",
     "text": [
      "[]\n"
     ]
    }
   ],
   "source": [
    "fruits = [\"apple\", \"banana\", \"cherry\", \"date\"]\n",
    "\n",
    "# Clearing the list\n",
    "fruits.clear()  \n",
    "print(fruits)"
   ]
  },
  {
   "cell_type": "code",
   "execution_count": 1,
   "id": "d0f0500b-deb6-4e4c-91b2-af71e4f27185",
   "metadata": {},
   "outputs": [],
   "source": [
    "#4. Compare and contrast tuples and lists with examples.\n",
    "\n",
    "#Tuples\n",
    "\n",
    "#Immutable: Once created, the elements of a tuple cannot be changed.\n",
    "#Ordered: Elements have a defined order and can be accessed via indices.\n",
    "#Fixed Size: The size of a tuple is fixed once it is created.\n",
    "#Heterogeneous: Can contain elements of different data types.\n",
    "#Hashable: Can be used as keys in dictionaries if they contain only hashable types."
   ]
  },
  {
   "cell_type": "code",
   "execution_count": 3,
   "id": "78940d81-9175-46d8-9cc9-d253655ce579",
   "metadata": {},
   "outputs": [
    {
     "name": "stdout",
     "output_type": "stream",
     "text": [
      "'tuple' object does not support item assignment\n"
     ]
    }
   ],
   "source": [
    "# Creating a tuple\n",
    "my_tuple = (1, \"hello\", 3.14, (2, 4))\n",
    "\n",
    "# Accessing elements\n",
    "first_element = my_tuple[0]\n",
    "nested_tuple = my_tuple[3]\n",
    "\n",
    "try:\n",
    "    my_tuple[1] = \"world\"  \n",
    "except TypeError as e:\n",
    "    print(e)"
   ]
  },
  {
   "cell_type": "code",
   "execution_count": 1,
   "id": "74fc3c2e-f51b-4a61-bcbb-e5caf377f43d",
   "metadata": {},
   "outputs": [
    {
     "name": "stdout",
     "output_type": "stream",
     "text": [
      "'tuple' object does not support item assignment\n"
     ]
    }
   ],
   "source": [
    "#Tuple: Immutable. Once created, elements cannot be changed\n",
    "\n",
    "my_tuple = (1, 2, 3)\n",
    "try:\n",
    "    my_tuple[1] = 4  \n",
    "except TypeError as e:\n",
    "    print(e)"
   ]
  },
  {
   "cell_type": "code",
   "execution_count": 4,
   "id": "fe41d46b-c7ec-4db9-adcb-1addeec0c515",
   "metadata": {},
   "outputs": [],
   "source": [
    "#5. Describe the key features of sets and provide examples of their use.\n",
    "\n",
    "#Key Features of Sets\n",
    "\n",
    "#Unordered >> Sets do not maintain any particular order of elements. \n",
    "#The order of elements is not guaranteed to be the same each time you access the set.\n",
    "\n",
    "#Unique Elements>> Sets automatically remove duplicate elements. Each element in a set must be unique.\n",
    "\n",
    "#Mutable>> Sets can be modified after creation. You can add or remove elements from a set.\n",
    "\n",
    "#Dynamic Size>> The size of a set can change dynamically as elements are added or removed.\n",
    "\n",
    "#Unindexed>> Sets do not support indexing, slicing, or other sequence-like behavior.\n",
    "\n",
    "#Efficient Membership Testing >> Sets provide highly efficient methods for checking if an element is a member of the set, \n",
    "#typically faster than lists.\n",
    "\n",
    "#Support for Mathematical Set Operations >> Sets support operations like union, intersection, difference, \n",
    "#and symmetric difference."
   ]
  },
  {
   "cell_type": "code",
   "execution_count": 6,
   "id": "51cb105d-e026-41cd-9416-81ecf4d347d8",
   "metadata": {},
   "outputs": [
    {
     "name": "stdout",
     "output_type": "stream",
     "text": [
      "{'apple', 'banana', 'cherry'}\n"
     ]
    }
   ],
   "source": [
    "#Examples of Set Operations\n",
    "\n",
    "#Creating a set\n",
    "fruits = {\"apple\", \"banana\", \"cherry\", \"apple\"}\n",
    "print(fruits) "
   ]
  },
  {
   "cell_type": "code",
   "execution_count": 7,
   "id": "6a3ca9de-23cd-43ff-a8b2-a5367c38cb93",
   "metadata": {},
   "outputs": [
    {
     "name": "stdout",
     "output_type": "stream",
     "text": [
      "{'apple', 'banana', 'date', 'cherry'}\n"
     ]
    }
   ],
   "source": [
    "#Adding elements\n",
    "fruits.add(\"date\")\n",
    "print(fruits)"
   ]
  },
  {
   "cell_type": "code",
   "execution_count": 8,
   "id": "30c70c37-84ab-4f6f-a9f7-1f42ab604cf4",
   "metadata": {},
   "outputs": [
    {
     "name": "stdout",
     "output_type": "stream",
     "text": [
      "{'apple', 'date', 'cherry'}\n"
     ]
    }
   ],
   "source": [
    "#Removing elements\n",
    "fruits.remove(\"banana\")\n",
    "print(fruits)"
   ]
  },
  {
   "cell_type": "code",
   "execution_count": 9,
   "id": "c90b4d7b-0a7d-426f-8a73-08da939dee17",
   "metadata": {},
   "outputs": [
    {
     "name": "stdout",
     "output_type": "stream",
     "text": [
      "{'apple', 'date', 'cherry'}\n"
     ]
    }
   ],
   "source": [
    "fruits.discard(\"banana\")\n",
    "print(fruits)"
   ]
  },
  {
   "cell_type": "code",
   "execution_count": 10,
   "id": "c2c195c8-88bc-4d05-aed6-e91069221c0c",
   "metadata": {},
   "outputs": [
    {
     "name": "stdout",
     "output_type": "stream",
     "text": [
      "{1, 2, 3, 4, 5}\n"
     ]
    }
   ],
   "source": [
    "#Set Operations\n",
    "\n",
    "#1.Union>>\n",
    "set1 = {1, 2, 3}\n",
    "set2 = {3, 4, 5}\n",
    "union_set = set1.union(set2)\n",
    "print(union_set)"
   ]
  },
  {
   "cell_type": "code",
   "execution_count": 11,
   "id": "497daa17-0a3c-479c-b3d4-3dbf114f33b7",
   "metadata": {},
   "outputs": [
    {
     "name": "stdout",
     "output_type": "stream",
     "text": [
      "{3}\n"
     ]
    }
   ],
   "source": [
    "#2. Intersection>>\n",
    "intersection_set = set1.intersection(set2)\n",
    "print(intersection_set)"
   ]
  },
  {
   "cell_type": "code",
   "execution_count": 12,
   "id": "8ae057f5-f97e-4b7a-af67-7d9a8f35034a",
   "metadata": {},
   "outputs": [
    {
     "name": "stdout",
     "output_type": "stream",
     "text": [
      "{1, 2}\n"
     ]
    }
   ],
   "source": [
    "#3. Difference>>\n",
    "difference_set = set1.difference(set2)\n",
    "print(difference_set)"
   ]
  },
  {
   "cell_type": "code",
   "execution_count": 13,
   "id": "afc64244-3905-4d5e-b48a-493a2b4b5b59",
   "metadata": {},
   "outputs": [
    {
     "name": "stdout",
     "output_type": "stream",
     "text": [
      "{1, 2, 4, 5}\n"
     ]
    }
   ],
   "source": [
    "#4. Symmetric Difference >>\n",
    "symmetric_difference_set = set1.symmetric_difference(set2)\n",
    "print(symmetric_difference_set)"
   ]
  },
  {
   "cell_type": "code",
   "execution_count": 14,
   "id": "5b3eada0-8b91-4555-8d96-6d10acacb510",
   "metadata": {},
   "outputs": [
    {
     "name": "stdout",
     "output_type": "stream",
     "text": [
      "True\n"
     ]
    }
   ],
   "source": [
    "print(\"apple\" in fruits)"
   ]
  },
  {
   "cell_type": "code",
   "execution_count": 15,
   "id": "054d8e02-e069-4186-8613-333d843276f6",
   "metadata": {},
   "outputs": [
    {
     "name": "stdout",
     "output_type": "stream",
     "text": [
      "False\n"
     ]
    }
   ],
   "source": [
    "print(\"banana\" in fruits)"
   ]
  },
  {
   "cell_type": "code",
   "execution_count": 16,
   "id": "fd3b5357-912a-4c0d-bb1f-9935119fb8e6",
   "metadata": {},
   "outputs": [
    {
     "data": {
      "text/plain": [
       "{'apple', 'cherry', 'date'}"
      ]
     },
     "execution_count": 16,
     "metadata": {},
     "output_type": "execute_result"
    }
   ],
   "source": [
    "fruits"
   ]
  },
  {
   "cell_type": "code",
   "execution_count": 17,
   "id": "f857f558-dac6-4f8b-be6c-93db2e288bbf",
   "metadata": {},
   "outputs": [
    {
     "name": "stdout",
     "output_type": "stream",
     "text": [
      "[1, 2, 3, 4, 5]\n"
     ]
    }
   ],
   "source": [
    "#Use Cases\n",
    "#removing duplicates\n",
    "numbers = [1, 2, 2, 3, 4, 4, 5]\n",
    "unique_numbers = list(set(numbers))\n",
    "print(unique_numbers)"
   ]
  },
  {
   "cell_type": "code",
   "execution_count": 18,
   "id": "2f9d58c6-7c5f-4c27-b439-0d03dfc9d796",
   "metadata": {},
   "outputs": [
    {
     "name": "stdout",
     "output_type": "stream",
     "text": [
      "True\n"
     ]
    }
   ],
   "source": [
    "allowed_colors = {\"red\", \"green\", \"blue\"}\n",
    "print(\"red\" in allowed_colors)"
   ]
  },
  {
   "cell_type": "code",
   "execution_count": 19,
   "id": "4f04cb6a-70c9-4e05-a809-0648a76af2a8",
   "metadata": {},
   "outputs": [
    {
     "name": "stdout",
     "output_type": "stream",
     "text": [
      "False\n"
     ]
    }
   ],
   "source": [
    "print(\"yellow\" in allowed_colors)"
   ]
  },
  {
   "cell_type": "code",
   "execution_count": 20,
   "id": "986ae266-4880-41c8-8b8e-9222c32b8651",
   "metadata": {},
   "outputs": [
    {
     "name": "stdout",
     "output_type": "stream",
     "text": [
      "set()\n"
     ]
    }
   ],
   "source": [
    "required_fields = {\"name\", \"age\", \"email\"}\n",
    "user_data = {\"name\", \"age\", \"email\", \"address\"}\n",
    "missing_fields = required_fields.difference(user_data)\n",
    "print(missing_fields)"
   ]
  },
  {
   "cell_type": "code",
   "execution_count": 21,
   "id": "57ce2c97-7668-4a12-91fa-9a80c18d4047",
   "metadata": {},
   "outputs": [],
   "source": [
    "#6. Discuss the use cases of tuples and sets in Python programming.\n",
    "\n",
    "#Tuples and sets in Python serve different purposes and are used in various scenarios depending on \n",
    "#their properties and the requirements of the program. \n",
    "\n",
    "#Use Cases for Tuples\n",
    "\n",
    "#Fixed Collections of Items>>\n",
    "coordinates = (10.0, 20.0)\n",
    "rgb_color = (255, 0, 0)"
   ]
  },
  {
   "cell_type": "code",
   "execution_count": 22,
   "id": "369d26f7-a7cd-4707-a0a8-68505517f79f",
   "metadata": {},
   "outputs": [],
   "source": [
    "#Return Multiple Values from Functions>>\n",
    "def get_min_max(numbers):\n",
    "    return (min(numbers), max(numbers))\n",
    "\n",
    "min_val, max_val = get_min_max([1, 2, 3, 4, 5])"
   ]
  },
  {
   "cell_type": "code",
   "execution_count": 23,
   "id": "59f8e6be-64c9-4a9d-849d-bbebb0491794",
   "metadata": {},
   "outputs": [],
   "source": [
    "#Immutability Guarantees >> the data remains constant and unchanged.\n",
    "settings = (\"localhost\", 8080, \"http\")"
   ]
  },
  {
   "cell_type": "code",
   "execution_count": 24,
   "id": "e0ea71b6-8f37-43d6-8148-7f5926cd2b04",
   "metadata": {},
   "outputs": [],
   "source": [
    "#Dictionary Keys>> It can be used as keys in dictionaries because they are hashable.\n",
    "location = {}\n",
    "location[(40.7128, 74.0060)] = \"New York\""
   ]
  },
  {
   "cell_type": "code",
   "execution_count": 25,
   "id": "79705c0c-4dbe-4f5a-80ab-137dd35b3e8e",
   "metadata": {},
   "outputs": [],
   "source": [
    "#Heterogeneous Data Storage >> Tuples can store different data types together in a single sequence.\n",
    "person = (\"John\", 30, \"Engineer\", True)"
   ]
  },
  {
   "cell_type": "code",
   "execution_count": 32,
   "id": "0c0ba157-c679-4557-bebf-8b292d500a23",
   "metadata": {},
   "outputs": [
    {
     "name": "stdout",
     "output_type": "stream",
     "text": [
      "{1, 2, 3, 4, 5}\n"
     ]
    }
   ],
   "source": [
    "#Use Cases for Sets\n",
    "\n",
    "#Eliminate Duplicates>>\n",
    "numbers = [1, 2, 2, 3, 4, 4, 5]\n",
    "unique_numbers = set(numbers)\n",
    "print(unique_numbers)"
   ]
  },
  {
   "cell_type": "code",
   "execution_count": 31,
   "id": "208cd800-4808-445b-a316-4582e522e6cd",
   "metadata": {},
   "outputs": [
    {
     "name": "stdout",
     "output_type": "stream",
     "text": [
      "Red is allowed.\n"
     ]
    }
   ],
   "source": [
    "#membership testing\n",
    "allowed_colors = {\"red\", \"green\", \"blue\"}\n",
    "if \"red\" in allowed_colors:\n",
    "    print(\"Red is allowed.\")"
   ]
  },
  {
   "cell_type": "code",
   "execution_count": 33,
   "id": "aa144504-1f9c-4743-8154-e40764bc7f1f",
   "metadata": {},
   "outputs": [
    {
     "name": "stdout",
     "output_type": "stream",
     "text": [
      "{1, 2, 3, 4, 5}\n"
     ]
    }
   ],
   "source": [
    "#Mathematical Set Operations >>\n",
    "set1 = {1, 2, 3}\n",
    "set2 = {3, 4, 5}\n",
    "union_set = set1 | set2  \n",
    "print(union_set)"
   ]
  },
  {
   "cell_type": "code",
   "execution_count": 34,
   "id": "c6d95f9d-ed77-49e3-a75d-62214dc896af",
   "metadata": {},
   "outputs": [
    {
     "name": "stdout",
     "output_type": "stream",
     "text": [
      "{3}\n"
     ]
    }
   ],
   "source": [
    "intersection_set = set1 & set2\n",
    "print(intersection_set)"
   ]
  },
  {
   "cell_type": "code",
   "execution_count": 35,
   "id": "91fcb145-5173-45ba-b4ba-6cdc4dcccc09",
   "metadata": {},
   "outputs": [
    {
     "name": "stdout",
     "output_type": "stream",
     "text": [
      "['apple', 'banana', 'orange']\n"
     ]
    }
   ],
   "source": [
    "#Removing Elements from a List Efficiently>>\n",
    "items = [\"apple\", \"banana\", \"apple\", \"orange\"]\n",
    "items = list(set(items)) \n",
    "print(items)"
   ]
  },
  {
   "cell_type": "code",
   "execution_count": 36,
   "id": "e78dd6c8-76f2-4373-80bb-715ffb01bfaa",
   "metadata": {},
   "outputs": [
    {
     "name": "stdout",
     "output_type": "stream",
     "text": [
      "{'world', 'hello', 'python'}\n"
     ]
    }
   ],
   "source": [
    "#Finding Unique Elements >>\n",
    "words = [\"hello\", \"world\", \"hello\", \"python\"]\n",
    "unique_words = set(words)\n",
    "print(unique_words)"
   ]
  },
  {
   "cell_type": "code",
   "execution_count": 37,
   "id": "ddfb39b4-0216-47c6-8780-03cf9cb96da6",
   "metadata": {},
   "outputs": [
    {
     "name": "stdout",
     "output_type": "stream",
     "text": [
      "{'age'}\n"
     ]
    }
   ],
   "source": [
    "#Data Validation >>\n",
    "required_fields = {\"name\", \"age\", \"email\"}\n",
    "provided_fields = {\"name\", \"email\"}\n",
    "missing_fields = required_fields - provided_fields\n",
    "print(missing_fields)"
   ]
  },
  {
   "cell_type": "code",
   "execution_count": 38,
   "id": "94ddf267-866e-412a-ae66-799a963926e6",
   "metadata": {},
   "outputs": [
    {
     "name": "stdout",
     "output_type": "stream",
     "text": [
      "{'banana', 'cherry'}\n"
     ]
    }
   ],
   "source": [
    "#7. Set Operations in Data Analysis >>\n",
    "dataset1 = {\"apple\", \"banana\", \"cherry\"}\n",
    "dataset2 = {\"banana\", \"cherry\", \"date\"}\n",
    "common_items = dataset1.intersection(dataset2)\n",
    "print(common_items)"
   ]
  },
  {
   "cell_type": "code",
   "execution_count": 39,
   "id": "6b0d77e9-4d7c-4587-a1ee-88a5fb9c3617",
   "metadata": {},
   "outputs": [
    {
     "name": "stdout",
     "output_type": "stream",
     "text": [
      "{'name': 'Alice', 'age': 30, 'city': 'New York'}\n"
     ]
    }
   ],
   "source": [
    "#7. Describe how to add, modify, and delete items in a dictionary with examples.\n",
    "\n",
    "# Creating an empty dictionary\n",
    "person = {}\n",
    "\n",
    "# Adding items\n",
    "person[\"name\"] = \"Alice\"\n",
    "person[\"age\"] = 30\n",
    "person[\"city\"] = \"New York\"\n",
    "\n",
    "print(person)"
   ]
  },
  {
   "cell_type": "code",
   "execution_count": 40,
   "id": "c7c35f86-7c79-474a-b837-1159ddad31e0",
   "metadata": {},
   "outputs": [
    {
     "name": "stdout",
     "output_type": "stream",
     "text": [
      "{'name': 'Alice', 'age': 31, 'city': 'San Francisco'}\n"
     ]
    }
   ],
   "source": [
    "person = {\"name\": \"Alice\", \"age\": 30, \"city\": \"New York\"}\n",
    "\n",
    "# Modifying an existing item\n",
    "person[\"age\"] = 31\n",
    "person[\"city\"] = \"San Francisco\"\n",
    "\n",
    "print(person)"
   ]
  },
  {
   "cell_type": "code",
   "execution_count": 41,
   "id": "b079ae84-a278-4e60-9125-4f9bf0745c6f",
   "metadata": {},
   "outputs": [
    {
     "name": "stdout",
     "output_type": "stream",
     "text": [
      "{'name': 'Alice', 'age': 31}\n"
     ]
    }
   ],
   "source": [
    "person = {\"name\": \"Alice\", \"age\": 31, \"city\": \"San Francisco\"}\n",
    "\n",
    "# Deleting an item\n",
    "del person[\"city\"]\n",
    "\n",
    "print(person)"
   ]
  },
  {
   "cell_type": "code",
   "execution_count": 42,
   "id": "6a60940f-0064-41fd-be67-e15c7f68ab02",
   "metadata": {},
   "outputs": [
    {
     "name": "stdout",
     "output_type": "stream",
     "text": [
      "{'name': 'Alice', 'city': 'San Francisco'}\n"
     ]
    }
   ],
   "source": [
    "person = {\"name\": \"Alice\", \"age\": 31, \"city\": \"San Francisco\"}\n",
    "\n",
    "# Deleting an item using pop()\n",
    "age = person.pop(\"age\")\n",
    "\n",
    "print(person)"
   ]
  },
  {
   "cell_type": "code",
   "execution_count": 43,
   "id": "5d8bcb61-9253-4692-b270-169f351cd576",
   "metadata": {},
   "outputs": [
    {
     "name": "stdout",
     "output_type": "stream",
     "text": [
      "31\n"
     ]
    }
   ],
   "source": [
    "print(age)"
   ]
  },
  {
   "cell_type": "code",
   "execution_count": 44,
   "id": "cccee6a7-a800-45ae-891b-0b2b7946c787",
   "metadata": {},
   "outputs": [
    {
     "name": "stdout",
     "output_type": "stream",
     "text": [
      "{'name': 'Alice', 'age': 31}\n"
     ]
    }
   ],
   "source": [
    "person = {\"name\": \"Alice\", \"age\": 31, \"city\": \"San Francisco\"}\n",
    "\n",
    "# Deleting the last inserted item\n",
    "last_item = person.popitem()\n",
    "\n",
    "print(person)"
   ]
  },
  {
   "cell_type": "code",
   "execution_count": 45,
   "id": "1e8f3166-bef3-451e-9412-8368c4eab7a9",
   "metadata": {},
   "outputs": [
    {
     "name": "stdout",
     "output_type": "stream",
     "text": [
      "('city', 'San Francisco')\n"
     ]
    }
   ],
   "source": [
    "print(last_item)"
   ]
  },
  {
   "cell_type": "code",
   "execution_count": 46,
   "id": "bf29f987-98e1-48cf-b0f7-c3a2f2338c23",
   "metadata": {},
   "outputs": [
    {
     "name": "stdout",
     "output_type": "stream",
     "text": [
      "Alice\n"
     ]
    }
   ],
   "source": [
    "#8. Discuss the importance of dictionary keys being immutable and provide examples.\n",
    "\n",
    "#Dictionary keys in Python must be immutable to ensure the integrity and reliability of the data structure. \n",
    "#Immutability guarantees that the hash value of a key remains constant, allowing dictionaries to \n",
    "#efficiently locate and retrieve values.\n",
    "\n",
    "'''Immutable keys ensure the key's hash value does not change, maintaining consistent access to stored values.'''\n",
    "'''Dictionaries rely on hashing for fast lookups. \n",
    "Mutable keys could change, leading to incorrect hash values and making lookups inefficient or erroneous.'''\n",
    "'''Using immutable keys prevents accidental modifications that could corrupt the dictionary.'''\n",
    "\n",
    "#Valid Immutable Key (String) >>\n",
    "my_dict = {\"name\": \"Alice\", \"age\": 30}\n",
    "print(my_dict[\"name\"])"
   ]
  },
  {
   "cell_type": "code",
   "execution_count": 47,
   "id": "ab9336af-9111-4e17-8755-0aeb6e21f9d4",
   "metadata": {},
   "outputs": [
    {
     "ename": "TypeError",
     "evalue": "unhashable type: 'list'",
     "output_type": "error",
     "traceback": [
      "\u001b[0;31m---------------------------------------------------------------------------\u001b[0m",
      "\u001b[0;31mTypeError\u001b[0m                                 Traceback (most recent call last)",
      "Cell \u001b[0;32mIn[47], line 2\u001b[0m\n\u001b[1;32m      1\u001b[0m \u001b[38;5;66;03m#Invalid Mutable Key (List) >>\u001b[39;00m\n\u001b[0;32m----> 2\u001b[0m my_dict \u001b[38;5;241m=\u001b[39m {[\u001b[38;5;241m1\u001b[39m, \u001b[38;5;241m2\u001b[39m]: \u001b[38;5;124m\"\u001b[39m\u001b[38;5;124mvalue\u001b[39m\u001b[38;5;124m\"\u001b[39m}\n\u001b[1;32m      3\u001b[0m \u001b[38;5;28mprint\u001b[39m(my_dict)\n",
      "\u001b[0;31mTypeError\u001b[0m: unhashable type: 'list'"
     ]
    }
   ],
   "source": [
    "#Invalid Mutable Key (List) >>\n",
    "my_dict = {[1, 2]: \"value\"}\n",
    "print(my_dict)"
   ]
  },
  {
   "cell_type": "code",
   "execution_count": 48,
   "id": "8536aa79-c64a-43a5-9343-b69688af6f1a",
   "metadata": {},
   "outputs": [
    {
     "name": "stdout",
     "output_type": "stream",
     "text": [
      "New York\n"
     ]
    }
   ],
   "source": [
    "coordinates = {(40.7128, 74.0060): \"New York\", (34.0522, 118.2437): \"Los Angeles\"}\n",
    "print(coordinates[(40.7128, 74.0060)])"
   ]
  },
  {
   "cell_type": "code",
   "execution_count": null,
   "id": "5bffa686-2246-4f25-8e19-1b94f14fbeb6",
   "metadata": {},
   "outputs": [],
   "source": []
  }
 ],
 "metadata": {
  "kernelspec": {
   "display_name": "Python 3 (ipykernel)",
   "language": "python",
   "name": "python3"
  },
  "language_info": {
   "codemirror_mode": {
    "name": "ipython",
    "version": 3
   },
   "file_extension": ".py",
   "mimetype": "text/x-python",
   "name": "python",
   "nbconvert_exporter": "python",
   "pygments_lexer": "ipython3",
   "version": "3.10.8"
  }
 },
 "nbformat": 4,
 "nbformat_minor": 5
}
