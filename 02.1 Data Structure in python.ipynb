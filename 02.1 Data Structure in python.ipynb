{
 "cells": [
  {
   "cell_type": "code",
   "execution_count": 3,
   "id": "a46d4f5c-f73a-4b07-b151-1e62d77836b0",
   "metadata": {},
   "outputs": [
    {
     "data": {
      "text/plain": [
       "'olleh'"
      ]
     },
     "execution_count": 3,
     "metadata": {},
     "output_type": "execute_result"
    }
   ],
   "source": [
    "#1. Write a code to reverse a string.\n",
    "\n",
    "a= \"hello\"\n",
    "a[::-1]"
   ]
  },
  {
   "cell_type": "code",
   "execution_count": 7,
   "id": "9c543a61-2a84-4933-b77f-83143b113e8f",
   "metadata": {},
   "outputs": [
    {
     "name": "stdout",
     "output_type": "stream",
     "text": [
      "3\n"
     ]
    }
   ],
   "source": [
    "#2. Write a code to count the number of vowels in a string.\n",
    "def count_vowels(s):\n",
    "    vowels = \"aeiouAEIOU\"\n",
    "    count = 0\n",
    "    for char in s:\n",
    "        if char in vowels:\n",
    "            count += 1\n",
    "    return count\n",
    "\n",
    "# Example \n",
    "s = \"Hello, World!\"\n",
    "print(count_vowels(s))"
   ]
  },
  {
   "cell_type": "code",
   "execution_count": 8,
   "id": "ccb98c1e-64fb-432e-a800-305fe4de5ee6",
   "metadata": {},
   "outputs": [
    {
     "name": "stdout",
     "output_type": "stream",
     "text": [
      "True\n"
     ]
    }
   ],
   "source": [
    "#3. Write a code to check if a given string is a palindrome or not.\n",
    "\n",
    "def is_palindrome(s):\n",
    "    return s == s[::-1]\n",
    "\n",
    "# Example\n",
    "s = \"racecar\"\n",
    "print(is_palindrome(s))"
   ]
  },
  {
   "cell_type": "code",
   "execution_count": 9,
   "id": "224979f4-f812-49a2-8181-f243b341de44",
   "metadata": {},
   "outputs": [
    {
     "name": "stdout",
     "output_type": "stream",
     "text": [
      "False\n"
     ]
    }
   ],
   "source": [
    "s = \"hello\"\n",
    "print(is_palindrome(s))"
   ]
  },
  {
   "cell_type": "code",
   "execution_count": 10,
   "id": "08a8d80b-30e4-463c-9413-feeaf61369c1",
   "metadata": {},
   "outputs": [
    {
     "name": "stdout",
     "output_type": "stream",
     "text": [
      "True\n"
     ]
    }
   ],
   "source": [
    "#4. Write a code to check if two given strings are anagrams of each other.\n",
    "\n",
    "def are_anagrams(s1, s2):\n",
    "    # Convert both strings to lowercase to make the comparison case-insensitive\n",
    "    s1 = s1.lower()\n",
    "    s2 = s2.lower()\n",
    "\n",
    "    # Sort the characters of both strings and compare\n",
    "    return sorted(s1) == sorted(s2)\n",
    "\n",
    "# Example\n",
    "s1 = \"listen\"\n",
    "s2 = \"silent\"\n",
    "print(are_anagrams(s1, s2))"
   ]
  },
  {
   "cell_type": "code",
   "execution_count": 11,
   "id": "c14506a3-8848-49f3-9675-1260996f2c7c",
   "metadata": {},
   "outputs": [
    {
     "name": "stdout",
     "output_type": "stream",
     "text": [
      "False\n"
     ]
    }
   ],
   "source": [
    "s1 = \"hello\"\n",
    "s2 = \"world\"\n",
    "print(are_anagrams(s1, s2))"
   ]
  },
  {
   "cell_type": "code",
   "execution_count": 12,
   "id": "98a2c799-aa1a-4efe-a056-13952d566de2",
   "metadata": {},
   "outputs": [
    {
     "name": "stdout",
     "output_type": "stream",
     "text": [
      "[0, 13]\n"
     ]
    }
   ],
   "source": [
    "#5. Write a code to find all occurrences of a given substring within another string.\n",
    "\n",
    "def find_substring_occurrences(s, sub):\n",
    "    occurrences = []\n",
    "    index = s.find(sub)\n",
    "    while index != -1:\n",
    "        occurrences.append(index)\n",
    "        index = s.find(sub, index + 1)\n",
    "    return occurrences\n",
    "\n",
    "# Example \n",
    "s = \"hello world, hello universe\"\n",
    "sub = \"hello\"\n",
    "print(find_substring_occurrences(s, sub))"
   ]
  },
  {
   "cell_type": "code",
   "execution_count": 13,
   "id": "9fd0af7f-97b4-4c76-943a-adb2534ec218",
   "metadata": {},
   "outputs": [
    {
     "name": "stdout",
     "output_type": "stream",
     "text": [
      "a2b1c5a3\n"
     ]
    }
   ],
   "source": [
    "#6. Write a code to perform basic string compression using the counts of repeated characters.\n",
    "\n",
    "def compress_string(s):\n",
    "    if not s:\n",
    "        return \"\"\n",
    "\n",
    "    compressed = []\n",
    "    count = 1\n",
    "    for i in range(1, len(s)):\n",
    "        if s[i] == s[i - 1]:\n",
    "            count += 1\n",
    "        else:\n",
    "            compressed.append(s[i - 1] + str(count))\n",
    "            count = 1\n",
    "    compressed.append(s[-1] + str(count))  # Add the last character and its count\n",
    "\n",
    "    compressed_string = \"\".join(compressed)\n",
    "    return compressed_string if len(compressed_string) < len(s) else s\n",
    "\n",
    "# Example\n",
    "s = \"aabcccccaaa\"\n",
    "print(compress_string(s))"
   ]
  },
  {
   "cell_type": "code",
   "execution_count": 14,
   "id": "409e657e-9d92-4356-867e-d7f37c80c8f6",
   "metadata": {},
   "outputs": [
    {
     "name": "stdout",
     "output_type": "stream",
     "text": [
      "True\n"
     ]
    }
   ],
   "source": [
    "#7. Write a code to determine if a string has all unique characters.\n",
    "\n",
    "def has_unique_characters(s):\n",
    "    return len(set(s)) == len(s)\n",
    "\n",
    "# Example\n",
    "s = \"abcdef\"\n",
    "print(has_unique_characters(s))"
   ]
  },
  {
   "cell_type": "code",
   "execution_count": 15,
   "id": "99b42fa3-c327-41df-a45b-58a65b3a364b",
   "metadata": {},
   "outputs": [
    {
     "name": "stdout",
     "output_type": "stream",
     "text": [
      "False\n"
     ]
    }
   ],
   "source": [
    "s = \"hello\"\n",
    "print(has_unique_characters(s))"
   ]
  },
  {
   "cell_type": "code",
   "execution_count": 16,
   "id": "c0bc1ba7-e1ec-4c16-adaf-38c4b8ef62da",
   "metadata": {},
   "outputs": [
    {
     "name": "stdout",
     "output_type": "stream",
     "text": [
      "HELLO WORLD\n"
     ]
    }
   ],
   "source": [
    "#8. Write a code to convert a given string to uppercase or lowercase.\n",
    "\n",
    "def to_uppercase(s):\n",
    "    return s.upper()\n",
    "\n",
    "def to_lowercase(s):\n",
    "    return s.lower()\n",
    "\n",
    "# Example\n",
    "s = \"Hello World\"\n",
    "print(to_uppercase(s))"
   ]
  },
  {
   "cell_type": "code",
   "execution_count": 17,
   "id": "aa763b75-ff3d-4fa3-8b4d-358b87804cb5",
   "metadata": {},
   "outputs": [
    {
     "name": "stdout",
     "output_type": "stream",
     "text": [
      "hello world\n"
     ]
    }
   ],
   "source": [
    "print(to_lowercase(s))"
   ]
  },
  {
   "cell_type": "code",
   "execution_count": 18,
   "id": "599e7d2d-cfbb-40be-835a-4587f5982135",
   "metadata": {},
   "outputs": [
    {
     "name": "stdout",
     "output_type": "stream",
     "text": [
      "6\n"
     ]
    }
   ],
   "source": [
    "#9. Write a code to count the number of words in a string.\n",
    "\n",
    "def count_words(s):\n",
    "    return len(s.split())\n",
    "\n",
    "# Example \n",
    "s = \"Hello world, welcome to Python programming.\"\n",
    "print(count_words(s))"
   ]
  },
  {
   "cell_type": "code",
   "execution_count": 19,
   "id": "01babdfa-0130-4720-8ff3-238599a7ba06",
   "metadata": {},
   "outputs": [
    {
     "name": "stdout",
     "output_type": "stream",
     "text": [
      "HelloWorld\n"
     ]
    }
   ],
   "source": [
    "#10. Write a code to concatenate two strings without using the + operator.\n",
    "\n",
    "def concatenate_strings(s1, s2):\n",
    "    return \"{}{}\".format(s1, s2)\n",
    "\n",
    "# Example usage\n",
    "s1 = \"Hello\"\n",
    "s2 = \"World\"\n",
    "print(concatenate_strings(s1, s2))"
   ]
  },
  {
   "cell_type": "code",
   "execution_count": 20,
   "id": "31c1825b-e63e-48bb-b746-7ba5d7c4f742",
   "metadata": {},
   "outputs": [
    {
     "name": "stdout",
     "output_type": "stream",
     "text": [
      "[1, 3, 4, 5]\n"
     ]
    }
   ],
   "source": [
    "#11. Write a code to remove all occurrences of a specific element from a list.\n",
    "\n",
    "def remove_element(lst, element):\n",
    "    return [x for x in lst if x != element]\n",
    "\n",
    "# Example\n",
    "lst = [1, 2, 3, 4, 2, 2, 5]\n",
    "element = 2\n",
    "print(remove_element(lst, element))"
   ]
  },
  {
   "cell_type": "code",
   "execution_count": 21,
   "id": "0dd326a7-c9c8-40b0-b8be-458a10a8bc00",
   "metadata": {},
   "outputs": [
    {
     "name": "stdout",
     "output_type": "stream",
     "text": [
      "45\n"
     ]
    }
   ],
   "source": [
    "#12. Implement a code to find the second largest number in a given list of integers.\n",
    "\n",
    "def second_largest(lst):\n",
    "    unique_lst = list(set(lst))\n",
    "    unique_lst.sort()\n",
    "    return unique_lst[-2] if len(unique_lst) >= 2 else None\n",
    "\n",
    "# Example usage\n",
    "lst = [10, 20, 4, 45, 99]\n",
    "print(second_largest(lst))"
   ]
  },
  {
   "cell_type": "code",
   "execution_count": 22,
   "id": "d12199fe-e248-4051-ac98-e1b5e092d8fc",
   "metadata": {},
   "outputs": [
    {
     "name": "stdout",
     "output_type": "stream",
     "text": [
      "{1: 1, 2: 2, 3: 3, 4: 4}\n"
     ]
    }
   ],
   "source": [
    "#13. Create a code to count the occurrences of each element in a list and return a dictionary with elements as keys and their counts as values.\n",
    "\n",
    "def count_occurrences(lst):\n",
    "    counts = {}\n",
    "    for item in lst:\n",
    "        if item in counts:\n",
    "            counts[item] += 1\n",
    "        else:\n",
    "            counts[item] = 1\n",
    "    return counts\n",
    "\n",
    "# Example usage\n",
    "lst = [1, 2, 2, 3, 3, 3, 4, 4, 4, 4]\n",
    "print(count_occurrences(lst))"
   ]
  },
  {
   "cell_type": "code",
   "execution_count": 23,
   "id": "03062b34-e195-46ec-a1da-063106ed3683",
   "metadata": {},
   "outputs": [
    {
     "name": "stdout",
     "output_type": "stream",
     "text": [
      "[5, 4, 3, 2, 1]\n"
     ]
    }
   ],
   "source": [
    "#14. Write a code to reverse a list in-place without using any built-in reverse functions.\n",
    "\n",
    "def reverse_list(lst):\n",
    "    left, right = 0, len(lst) - 1\n",
    "    while left < right:\n",
    "        lst[left], lst[right] = lst[right], lst[left]\n",
    "        left += 1\n",
    "        right -= 1\n",
    "\n",
    "# Example\n",
    "lst = [1, 2, 3, 4, 5]\n",
    "reverse_list(lst)\n",
    "print(lst)"
   ]
  },
  {
   "cell_type": "code",
   "execution_count": 24,
   "id": "083284b5-ee59-4d34-86d2-9a41f7d79188",
   "metadata": {},
   "outputs": [
    {
     "name": "stdout",
     "output_type": "stream",
     "text": [
      "[1, 2, 3, 4, 5]\n"
     ]
    }
   ],
   "source": [
    "#15. Implement a code to find and remove duplicates from a list while preserving the original order of elements.\n",
    "\n",
    "def remove_duplicates(lst):\n",
    "    seen = set()\n",
    "    result = []\n",
    "    for item in lst:\n",
    "        if item not in seen:\n",
    "            result.append(item)\n",
    "            seen.add(item)\n",
    "    return result\n",
    "\n",
    "# Example\n",
    "lst = [1, 2, 2, 3, 4, 4, 5]\n",
    "print(remove_duplicates(lst))"
   ]
  },
  {
   "cell_type": "code",
   "execution_count": 25,
   "id": "0c5ebadf-a3b7-4aa5-874a-8a8ddc84db49",
   "metadata": {},
   "outputs": [
    {
     "name": "stdout",
     "output_type": "stream",
     "text": [
      "True\n"
     ]
    }
   ],
   "source": [
    "#16. Create a code to check if a given list is sorted (either in ascending or descending order) or not.\n",
    "\n",
    "def is_sorted(lst):\n",
    "    return lst == sorted(lst) or lst == sorted(lst, reverse=True)\n",
    "\n",
    "# Example\n",
    "lst = [1, 2, 3, 4, 5]\n",
    "print(is_sorted(lst))"
   ]
  },
  {
   "cell_type": "code",
   "execution_count": 26,
   "id": "fe2eadf7-32af-44fd-99d7-8dbd511da1b6",
   "metadata": {},
   "outputs": [
    {
     "name": "stdout",
     "output_type": "stream",
     "text": [
      "True\n"
     ]
    }
   ],
   "source": [
    "lst = [5, 4, 3, 2, 1]\n",
    "print(is_sorted(lst))"
   ]
  },
  {
   "cell_type": "code",
   "execution_count": 27,
   "id": "938ccd19-393a-4bd9-861b-37ae0f63e8dd",
   "metadata": {},
   "outputs": [
    {
     "name": "stdout",
     "output_type": "stream",
     "text": [
      "False\n"
     ]
    }
   ],
   "source": [
    "lst = [1, 3, 2, 4, 5]\n",
    "print(is_sorted(lst))"
   ]
  },
  {
   "cell_type": "code",
   "execution_count": 31,
   "id": "968f2f3b-0ecc-4df6-88f2-4ce4b889f422",
   "metadata": {},
   "outputs": [],
   "source": [
    "#17. Write a code to merge two sorted lists into a single sorted list.\n",
    "\n",
    "def merge_sorted_lists(lst1, lst2):\n",
    "    merged_list = []\n",
    "    i = j = 0\n",
    "    while i < lst1 and j < lst2:\n",
    "        if lst1[i] < lst2[j]:\n",
    "            merged_list.append(lst1[i])\n",
    "            i += 1\n",
    "        else:\n",
    "            merged_list.append(lst2[j])\n",
    "            j += 1\n",
    "    merged_list.extend(lst1[i:])\n",
    "    merged_list.extend(lst2[j:])\n",
    "    return merged_list\n"
   ]
  },
  {
   "cell_type": "code",
   "execution_count": 32,
   "id": "f0061dc6-9735-41a3-827b-e5a416eb54c0",
   "metadata": {},
   "outputs": [
    {
     "name": "stdout",
     "output_type": "stream",
     "text": [
      "[3, 4]\n"
     ]
    }
   ],
   "source": [
    "#18. Implement a code to find the intersection of two given lists.\n",
    "\n",
    "def list_intersection(lst1, lst2):\n",
    "    return list(set(lst1) & set(lst2))\n",
    "\n",
    "# Example\n",
    "lst1 = [1, 2, 3, 4]\n",
    "lst2 = [3, 4, 5, 6]\n",
    "print(list_intersection(lst1, lst2))"
   ]
  },
  {
   "cell_type": "code",
   "execution_count": 33,
   "id": "d4803a22-ed5a-46ee-9c7d-b404426d242d",
   "metadata": {},
   "outputs": [
    {
     "name": "stdout",
     "output_type": "stream",
     "text": [
      "[1, 2, 3, 4, 5, 6]\n"
     ]
    }
   ],
   "source": [
    "#19. Create a code to find the union of two lists without duplicates.\n",
    "\n",
    "def list_union(lst1, lst2):\n",
    "    return list(set(lst1) | set(lst2))\n",
    "\n",
    "# Example \n",
    "lst1 = [1, 2, 3, 4]\n",
    "lst2 = [3, 4, 5, 6]\n",
    "print(list_union(lst1, lst2))"
   ]
  },
  {
   "cell_type": "code",
   "execution_count": 34,
   "id": "45f83db3-9f71-48e4-9baa-66578f7a1fab",
   "metadata": {},
   "outputs": [
    {
     "name": "stdout",
     "output_type": "stream",
     "text": [
      "[4, 5, 1, 2, 3]\n"
     ]
    }
   ],
   "source": [
    "#20. Write a code to shuffle a given list randomly without using any built-in shuffle functions.\n",
    "\n",
    "import random\n",
    "\n",
    "def shuffle_list(lst):\n",
    "    for i in range(len(lst) - 1, 0, -1):\n",
    "        j = random.randint(0, i)\n",
    "        lst[i], lst[j] = lst[j], lst[i]\n",
    "\n",
    "# Example\n",
    "lst = [1, 2, 3, 4, 5]\n",
    "shuffle_list(lst)\n",
    "print(lst)"
   ]
  },
  {
   "cell_type": "code",
   "execution_count": 35,
   "id": "a775bdfc-46b4-4122-aa47-abce1c52569a",
   "metadata": {},
   "outputs": [
    {
     "name": "stdout",
     "output_type": "stream",
     "text": [
      "(3, 4)\n"
     ]
    }
   ],
   "source": [
    "#21. Write a code that takes two tuples as input and returns a new tuple containing elements that are common to both input tuples.\n",
    "\n",
    "def common_elements(tup1, tup2):\n",
    "    return tuple(set(tup1) & set(tup2))\n",
    "\n",
    "# Example \n",
    "tup1 = (1, 2, 3, 4)\n",
    "tup2 = (3, 4, 5, 6)\n",
    "print(common_elements(tup1, tup2))"
   ]
  },
  {
   "cell_type": "code",
   "execution_count": 37,
   "id": "d6494541-5761-4a6b-897b-73bda15329b4",
   "metadata": {},
   "outputs": [
    {
     "name": "stdin",
     "output_type": "stream",
     "text": [
      "Enter the first set of integers separated by commas:  1,2,3,4\n",
      "Enter the second set of integers separated by commas:  3,4,5,6\n"
     ]
    },
    {
     "name": "stdout",
     "output_type": "stream",
     "text": [
      "The intersection of the two sets is: {3, 4}\n"
     ]
    }
   ],
   "source": [
    "#22. Create a code that prompts the user to enter two sets of integers separated by commas. \n",
    "#Then, print the intersection of these two sets.\n",
    "\n",
    "def main():\n",
    "    set1 = set(map(int, input(\"Enter the first set of integers separated by commas: \").split(',')))\n",
    "    set2 = set(map(int, input(\"Enter the second set of integers separated by commas: \").split(',')))\n",
    "    intersection = set1 & set2\n",
    "    print(f\"The intersection of the two sets is: {intersection}\")\n",
    "\n",
    "main()\n"
   ]
  },
  {
   "cell_type": "code",
   "execution_count": 38,
   "id": "859b3ca2-ce01-4fdc-9387-b6343090126a",
   "metadata": {},
   "outputs": [
    {
     "name": "stdout",
     "output_type": "stream",
     "text": [
      "(1, 2, 3, 4, 5, 6)\n"
     ]
    }
   ],
   "source": [
    "#23. Write a code to concatenate two tuples. \n",
    "#The function should take two tuples as input and return a new tuple containing elements from both input tuples.\n",
    "\n",
    "def concatenate_tuples(tup1, tup2):\n",
    "    return tup1 + tup2\n",
    "\n",
    "# Example\n",
    "tup1 = (1, 2, 3)\n",
    "tup2 = (4, 5, 6)\n",
    "print(concatenate_tuples(tup1, tup2))"
   ]
  },
  {
   "cell_type": "code",
   "execution_count": 39,
   "id": "0ac7141a-a4ff-49c8-93f5-076be0e7841e",
   "metadata": {},
   "outputs": [
    {
     "name": "stdin",
     "output_type": "stream",
     "text": [
      "Enter the first set of strings separated by commas:  a,b,c,d\n",
      "Enter the second set of strings separated by commas:  c,d,e,f\n"
     ]
    },
    {
     "name": "stdout",
     "output_type": "stream",
     "text": [
      "Elements in the first set but not in the second set: {'a', 'b'}\n"
     ]
    }
   ],
   "source": [
    "#24. Develop a code that prompts the user to input two sets of strings. Then, print the elements that are\n",
    "#present in the first set but not in the second set.\n",
    "\n",
    "def elements_in_first_not_second():\n",
    "    set1 = set(input(\"Enter the first set of strings separated by commas: \").split(','))\n",
    "    set2 = set(input(\"Enter the second set of strings separated by commas: \").split(','))\n",
    "    difference = set1 - set2\n",
    "    print(f\"Elements in the first set but not in the second set: {difference}\")\n",
    "\n",
    "elements_in_first_not_second()"
   ]
  },
  {
   "cell_type": "code",
   "execution_count": 40,
   "id": "1d44f085-7231-4553-816f-62043c3141f4",
   "metadata": {},
   "outputs": [
    {
     "name": "stdout",
     "output_type": "stream",
     "text": [
      "(2, 3, 4, 5)\n"
     ]
    }
   ],
   "source": [
    "#25. Create a code that takes a tuple and two integers as input. The function should return a new tuple\n",
    "#containing elements from the original tuple within the specified range of indices.\n",
    "\n",
    "def elements_in_range(tup, start, end):\n",
    "    return tup[start:end+1]\n",
    "\n",
    "# Example\n",
    "tup = (0, 1, 2, 3, 4, 5, 6)\n",
    "start = 2\n",
    "end = 5\n",
    "print(elements_in_range(tup, start, end))"
   ]
  },
  {
   "cell_type": "code",
   "execution_count": 41,
   "id": "0130f618-b96c-47e2-9f6c-0de1470c05db",
   "metadata": {},
   "outputs": [
    {
     "name": "stdin",
     "output_type": "stream",
     "text": [
      "Enter the first set of characters separated by commas:  a,b,c\n",
      "Enter the second set of characters separated by commas:  b,c,d\n"
     ]
    },
    {
     "name": "stdout",
     "output_type": "stream",
     "text": [
      "The union of the two sets is: {'c', 'b', 'a', 'd'}\n"
     ]
    }
   ],
   "source": [
    "#26. Write a code that prompts the user to input two sets of characters. Then, print the union of these two sets.\n",
    "\n",
    "def union_of_character_sets():\n",
    "    set1 = set(input(\"Enter the first set of characters separated by commas: \").split(','))\n",
    "    set2 = set(input(\"Enter the second set of characters separated by commas: \").split(','))\n",
    "    union = set1 | set2\n",
    "    print(f\"The union of the two sets is: {union}\")\n",
    "\n",
    "union_of_character_sets()"
   ]
  },
  {
   "cell_type": "code",
   "execution_count": 42,
   "id": "f8d00991-71bd-4379-8f70-454326632ec4",
   "metadata": {},
   "outputs": [
    {
     "name": "stdout",
     "output_type": "stream",
     "text": [
      "(9, 1)\n"
     ]
    }
   ],
   "source": [
    "#27. Develop a code that takes a tuple of integers as input. The function should return the maximum and\n",
    "#minimum values from the tuple using tuple unpacking.\n",
    "\n",
    "def max_and_min(tup):\n",
    "    return max(tup), min(tup)\n",
    "\n",
    "# Example\n",
    "tup = (4, 2, 9, 1, 7)\n",
    "print(max_and_min(tup))"
   ]
  },
  {
   "cell_type": "code",
   "execution_count": 43,
   "id": "645599bb-c5cd-433f-9b46-2760a70829f2",
   "metadata": {},
   "outputs": [
    {
     "name": "stdout",
     "output_type": "stream",
     "text": [
      "Union: {1, 2, 3, 4, 5, 6}\n",
      "Intersection: {3, 4}\n",
      "Difference: {1, 2}\n"
     ]
    }
   ],
   "source": [
    "#28. Create a code that defines two sets of integers. Then, print the union, intersection, and difference of these two sets.\n",
    "\n",
    "def set_operations():\n",
    "    set1 = {1, 2, 3, 4}\n",
    "    set2 = {3, 4, 5, 6}\n",
    "    union = set1 | set2\n",
    "    intersection = set1 & set2\n",
    "    difference = set1 - set2\n",
    "    print(f\"Union: {union}\")\n",
    "    print(f\"Intersection: {intersection}\")\n",
    "    print(f\"Difference: {difference}\")\n",
    "\n",
    "set_operations()"
   ]
  },
  {
   "cell_type": "code",
   "execution_count": 44,
   "id": "5519b445-f2de-42ed-abfd-e80007400acb",
   "metadata": {},
   "outputs": [
    {
     "name": "stdout",
     "output_type": "stream",
     "text": [
      "3\n"
     ]
    }
   ],
   "source": [
    "#29. Write a code that takes a tuple and an element as input. The function should return the count of\n",
    "#occurrences of the given element in the tuple.\n",
    "\n",
    "def count_element(tup, element):\n",
    "    return tup.count(element)\n",
    "\n",
    "# Example\n",
    "tup = (1, 2, 2, 3, 4, 2, 5)\n",
    "element = 2\n",
    "print(count_element(tup, element))"
   ]
  },
  {
   "cell_type": "code",
   "execution_count": 45,
   "id": "d068dee2-c2f0-4315-a043-49457b4474e4",
   "metadata": {},
   "outputs": [
    {
     "name": "stdin",
     "output_type": "stream",
     "text": [
      "Enter the first set of strings separated by commas:  a,b,c\n",
      "Enter the second set of strings separated by commas:  b,c,d\n"
     ]
    },
    {
     "name": "stdout",
     "output_type": "stream",
     "text": [
      "The symmetric difference of the two sets is: {'d', 'a'}\n"
     ]
    }
   ],
   "source": [
    "#30. Develop a code that prompts the user to input two sets of strings. Then, print the symmetric difference of these two sets.\n",
    "\n",
    "def symmetric_difference_of_sets():\n",
    "    set1 = set(input(\"Enter the first set of strings separated by commas: \").split(','))\n",
    "    set2 = set(input(\"Enter the second set of strings separated by commas: \").split(','))\n",
    "    symmetric_difference = set1 ^ set2\n",
    "    print(f\"The symmetric difference of the two sets is: {symmetric_difference}\")\n",
    "\n",
    "symmetric_difference_of_sets()"
   ]
  },
  {
   "cell_type": "code",
   "execution_count": 46,
   "id": "96e2a294-4d2b-49fd-adfc-27ee4fe8dff3",
   "metadata": {},
   "outputs": [
    {
     "name": "stdout",
     "output_type": "stream",
     "text": [
      "{'apple': 2, 'banana': 3, 'orange': 1}\n"
     ]
    }
   ],
   "source": [
    "#31. Write a code that takes a list of words as input and returns a dictionary where the keys are unique words\n",
    "#and the values are the frequencies of those words in the input list.\n",
    "\n",
    "def word_frequencies(words):\n",
    "    freq = {}\n",
    "    for word in words:\n",
    "        freq[word] = freq.get(word, 0) + 1\n",
    "    return freq\n",
    "\n",
    "# Example\n",
    "words = [\"apple\", \"banana\", \"apple\", \"orange\", \"banana\", \"banana\"]\n",
    "print(word_frequencies(words))"
   ]
  },
  {
   "cell_type": "code",
   "execution_count": 47,
   "id": "ffbab681-916a-4a69-8356-78095b58889f",
   "metadata": {},
   "outputs": [
    {
     "name": "stdout",
     "output_type": "stream",
     "text": [
      "{'a': 100, 'b': 500, 'c': 400}\n"
     ]
    }
   ],
   "source": [
    "#32. Write a code that takes two dictionaries as input and merges them into a single dictionary. \n",
    "#If there are common keys, the values should be added together.\n",
    "\n",
    "def merge_dictionaries(dict1, dict2):\n",
    "    merged_dict = dict1.copy()\n",
    "    for key, value in dict2.items():\n",
    "        if key in merged_dict:\n",
    "            merged_dict[key] += value\n",
    "        else:\n",
    "            merged_dict[key] = value\n",
    "    return merged_dict\n",
    "\n",
    "# Example \n",
    "dict1 = {'a': 100, 'b': 200}\n",
    "dict2 = {'b': 300, 'c': 400}\n",
    "print(merge_dictionaries(dict1, dict2))"
   ]
  },
  {
   "cell_type": "code",
   "execution_count": 48,
   "id": "1eacb288-b8a8-4612-9651-57fd96e0e1df",
   "metadata": {},
   "outputs": [
    {
     "name": "stdout",
     "output_type": "stream",
     "text": [
      "42\n"
     ]
    }
   ],
   "source": [
    "#33. Write a code to access a value in a nested dictionary. The function should take the dictionary and a list of\n",
    "#keys as input, and return the corresponding value. If any of the keys do not exist in the dictionary, \n",
    "#the function should return None.\n",
    "\n",
    "def get_nested_value(dictionary, keys):\n",
    "    value = dictionary\n",
    "    for key in keys:\n",
    "        if key in value:\n",
    "            value = value[key]\n",
    "        else:\n",
    "            return None\n",
    "    return value\n",
    "\n",
    "# Example\n",
    "nested_dict = {'a': {'b': {'c': 42}}}\n",
    "keys = ['a', 'b', 'c']\n",
    "print(get_nested_value(nested_dict, keys))"
   ]
  },
  {
   "cell_type": "code",
   "execution_count": 49,
   "id": "387dbf05-f7bf-437f-9bbe-bfe744557fb8",
   "metadata": {},
   "outputs": [
    {
     "name": "stdout",
     "output_type": "stream",
     "text": [
      "None\n"
     ]
    }
   ],
   "source": [
    "keys = ['a', 'b', 'd']\n",
    "print(get_nested_value(nested_dict, keys))"
   ]
  },
  {
   "cell_type": "code",
   "execution_count": 50,
   "id": "99adf1ea-d8e6-47a6-aa27-43a6f92dca78",
   "metadata": {},
   "outputs": [
    {
     "name": "stdout",
     "output_type": "stream",
     "text": [
      "{'cherry': 1, 'apple': 2, 'banana': 3, 'date': 4}\n",
      "{'date': 4, 'banana': 3, 'apple': 2, 'cherry': 1}\n"
     ]
    }
   ],
   "source": [
    "#34. Write a code that takes a dictionary as input and returns a sorted version of it based on the values. \n",
    "#You can choose whether to sort in ascending or descending order.\n",
    "\n",
    "def sort_dict_by_values(d, ascending=True):\n",
    "    sorted_items = sorted(d.items(), key=lambda item: item[1], reverse=not ascending)\n",
    "    return dict(sorted_items)\n",
    "\n",
    "# Example \n",
    "input_dict = {'apple': 2, 'banana': 3, 'cherry': 1, 'date': 4}\n",
    "print(sort_dict_by_values(input_dict))\n",
    "print(sort_dict_by_values(input_dict, ascending=False))"
   ]
  },
  {
   "cell_type": "code",
   "execution_count": 51,
   "id": "6d19e42f-ee19-4562-82c4-67714b45bb4c",
   "metadata": {},
   "outputs": [
    {
     "name": "stdout",
     "output_type": "stream",
     "text": [
      "{1: ['a', 'c'], 2: ['b', 'd']}\n"
     ]
    }
   ],
   "source": [
    "#35. Write a code that inverts a dictionary, swapping keys and values. Ensure that the inverted dictionary\n",
    "#correctly handles cases where multiple keys have the same value by storing the keys as a list in the inverted dictionary.\n",
    "\n",
    "def invert_dict(d):\n",
    "    inverted = {}\n",
    "    for key, value in d.items():\n",
    "        if value not in inverted:\n",
    "            inverted[value] = [key]\n",
    "        else:\n",
    "            inverted[value].append(key)\n",
    "    return inverted\n",
    "\n",
    "# Example\n",
    "input_dict = {'a': 1, 'b': 2, 'c': 1, 'd': 2}\n",
    "print(invert_dict(input_dict))"
   ]
  },
  {
   "cell_type": "code",
   "execution_count": null,
   "id": "aa02f587-5621-4ec4-aa37-fe2a873ef7dc",
   "metadata": {},
   "outputs": [],
   "source": []
  }
 ],
 "metadata": {
  "kernelspec": {
   "display_name": "Python 3 (ipykernel)",
   "language": "python",
   "name": "python3"
  },
  "language_info": {
   "codemirror_mode": {
    "name": "ipython",
    "version": 3
   },
   "file_extension": ".py",
   "mimetype": "text/x-python",
   "name": "python",
   "nbconvert_exporter": "python",
   "pygments_lexer": "ipython3",
   "version": "3.10.8"
  }
 },
 "nbformat": 4,
 "nbformat_minor": 5
}
